{
 "cells": [
  {
   "cell_type": "markdown",
   "id": "7d69b365-2414-418b-acd6-9c1994a6c4b7",
   "metadata": {},
   "source": [
    "# Data Science Tools and Ecosystem"
   ]
  },
  {
   "cell_type": "markdown",
   "id": "2179c673-4dc4-4afa-b1af-cefebb5c2a41",
   "metadata": {},
   "source": [
    "In this notebook, Data Science Tools and Ecosystem are summarized."
   ]
  },
  {
   "cell_type": "markdown",
   "id": "18d84279-b33c-41b9-bd25-ed8b9629444c",
   "metadata": {},
   "source": [
    "Some of the popular languages that Data Scientists use are:\n",
    "1. Python\n",
    "2. R\n",
    "3. SQL"
   ]
  },
  {
   "cell_type": "markdown",
   "id": "87d1b28a-2d7e-4b1a-b158-f5cb90ab5ea2",
   "metadata": {},
   "source": [
    "Some of the commonly used libraries used by Data Scientists include:\n",
    "1. pandas\n",
    "2. NumPy\n",
    "3. Matplotlib\n",
    "4. scikit-learn"
   ]
  },
  {
   "cell_type": "markdown",
   "id": "c781c060-d503-47dc-85e9-a22fb0bb0c51",
   "metadata": {},
   "source": [
    "| Data Science Tools |\n",
    "|--------------------|\n",
    "| JupyterLab         |\n",
    "| VS Code            |\n",
    "| Apache Zeppelin    |"
   ]
  },
  {
   "cell_type": "markdown",
   "id": "26f09723-998b-4b1b-98f0-cf5da4af28f5",
   "metadata": {},
   "source": [
    "### Below are a few examples of evaluating arithmetic expressions in Python."
   ]
  },
  {
   "cell_type": "code",
   "execution_count": null,
   "id": "859819bd-9ce5-4a09-bf6d-f3799b7c92b7",
   "metadata": {},
   "outputs": [],
   "source": [
    "# This is a simple arithmetic expression to multiply then add integers\n",
    "(3 * 4) + 5"
   ]
  },
  {
   "cell_type": "code",
   "execution_count": null,
   "id": "add39050-bc1d-4bb8-bda3-8bd4ea677f56",
   "metadata": {},
   "outputs": [],
   "source": [
    "# This will convert 200 minutes to hours by dividing by 60\n",
    "200 / 60"
   ]
  },
  {
   "cell_type": "markdown",
   "id": "83a7745d-f31a-4b96-a3a5-6947127ca039",
   "metadata": {},
   "source": [
    "**Objectives:**\n",
    "- List popular languages for Data Science\n",
    "- List commonly used data science libraries\n",
    "- Demonstrate creating tables in Markdown\n",
    "- Show simple arithmetic operations in code cells\n",
    "- Convert units using Python expressions"
   ]
  },
  {
   "cell_type": "markdown",
   "id": "04d6d688-184e-403f-a57f-83c5735e5e02",
   "metadata": {},
   "source": [
    "## Author\n",
    "Henry Vianna"
   ]
  },
  {
   "cell_type": "code",
   "execution_count": null,
   "id": "ed88a70f-ce38-41b0-806e-ecb5993006de",
   "metadata": {},
   "outputs": [],
   "source": []
  }
 ],
 "metadata": {
  "kernelspec": {
   "display_name": "Python 3 (ipykernel)",
   "language": "python",
   "name": "python3"
  },
  "language_info": {
   "codemirror_mode": {
    "name": "ipython",
    "version": 3
   },
   "file_extension": ".py",
   "mimetype": "text/x-python",
   "name": "python",
   "nbconvert_exporter": "python",
   "pygments_lexer": "ipython3",
   "version": "3.12.8"
  }
 },
 "nbformat": 4,
 "nbformat_minor": 5
}
